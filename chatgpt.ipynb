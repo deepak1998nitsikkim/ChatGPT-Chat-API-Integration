{
 "cells": [
  {
   "cell_type": "code",
   "execution_count": 1,
   "id": "735422cd",
   "metadata": {},
   "outputs": [
    {
     "name": "stdout",
     "output_type": "stream",
     "text": [
      "Requirement already satisfied: openai in c:\\users\\deepa\\anaconda3\\lib\\site-packages (0.27.8)\n",
      "Requirement already satisfied: tqdm in c:\\users\\deepa\\anaconda3\\lib\\site-packages (from openai) (4.64.1)\n",
      "Requirement already satisfied: aiohttp in c:\\users\\deepa\\anaconda3\\lib\\site-packages (from openai) (3.8.4)\n",
      "Requirement already satisfied: requests>=2.20 in c:\\users\\deepa\\anaconda3\\lib\\site-packages (from openai) (2.28.1)\n",
      "Requirement already satisfied: idna<4,>=2.5 in c:\\users\\deepa\\anaconda3\\lib\\site-packages (from requests>=2.20->openai) (2.10)\n",
      "Requirement already satisfied: charset-normalizer<3,>=2 in c:\\users\\deepa\\anaconda3\\lib\\site-packages (from requests>=2.20->openai) (2.0.4)\n",
      "Requirement already satisfied: urllib3<1.27,>=1.21.1 in c:\\users\\deepa\\anaconda3\\lib\\site-packages (from requests>=2.20->openai) (1.26.11)\n",
      "Requirement already satisfied: certifi>=2017.4.17 in c:\\users\\deepa\\anaconda3\\lib\\site-packages (from requests>=2.20->openai) (2022.9.14)\n",
      "Requirement already satisfied: frozenlist>=1.1.1 in c:\\users\\deepa\\anaconda3\\lib\\site-packages (from aiohttp->openai) (1.3.3)\n",
      "Requirement already satisfied: multidict<7.0,>=4.5 in c:\\users\\deepa\\anaconda3\\lib\\site-packages (from aiohttp->openai) (6.0.4)\n",
      "Requirement already satisfied: async-timeout<5.0,>=4.0.0a3 in c:\\users\\deepa\\anaconda3\\lib\\site-packages (from aiohttp->openai) (4.0.2)\n",
      "Requirement already satisfied: attrs>=17.3.0 in c:\\users\\deepa\\anaconda3\\lib\\site-packages (from aiohttp->openai) (21.4.0)\n",
      "Requirement already satisfied: yarl<2.0,>=1.0 in c:\\users\\deepa\\anaconda3\\lib\\site-packages (from aiohttp->openai) (1.9.2)\n",
      "Requirement already satisfied: aiosignal>=1.1.2 in c:\\users\\deepa\\anaconda3\\lib\\site-packages (from aiohttp->openai) (1.3.1)\n",
      "Requirement already satisfied: colorama in c:\\users\\deepa\\anaconda3\\lib\\site-packages (from tqdm->openai) (0.4.5)\n",
      "Note: you may need to restart the kernel to use updated packages.\n"
     ]
    }
   ],
   "source": [
    "pip install openai"
   ]
  },
  {
   "cell_type": "code",
   "execution_count": 2,
   "id": "f5da6f9c",
   "metadata": {},
   "outputs": [],
   "source": [
    "!pip install -q openai"
   ]
  },
  {
   "cell_type": "code",
   "execution_count": 3,
   "id": "3ef5353e",
   "metadata": {},
   "outputs": [],
   "source": [
    "import openai"
   ]
  },
  {
   "cell_type": "code",
   "execution_count": 4,
   "id": "e90b064f",
   "metadata": {},
   "outputs": [],
   "source": [
    "openai.api_key = 'Enter your api key here' # https://platform.openai.com/account/api-keys"
   ]
  },
  {
   "cell_type": "code",
   "execution_count": 5,
   "id": "623778c0",
   "metadata": {},
   "outputs": [],
   "source": [
    "messages = [\n",
    "    { \"role\":\"assistant\", \"content\":\"\\n\\nThis is a test!\"},\n",
    "]"
   ]
  },
  {
   "cell_type": "code",
   "execution_count": 6,
   "id": "4b7f9d95",
   "metadata": {},
   "outputs": [
    {
     "name": "stdout",
     "output_type": "stream",
     "text": [
      "\n",
      "-----Important Note : Empty message will terminate the chat-----\n",
      "\n",
      "\n",
      "User Query : \n",
      "\n",
      "Chat is terminated successfully 👍🙂\n"
     ]
    }
   ],
   "source": [
    "print('\\n-----Important Note : Empty message will terminate the chat-----')\n",
    "\n",
    "while True:\n",
    "    message = input('\\n\\nUser Query : ')\n",
    "    \n",
    "    if message=='':\n",
    "        print('\\nChat is terminated successfully 👍🙂')\n",
    "        break\n",
    "    \n",
    "    else:\n",
    "        \n",
    "            messages.append(\n",
    "                {\"role\" : \"user\", \"content\" : message},\n",
    "            )\n",
    "\n",
    "            chat = openai.ChatCompletion.create(\n",
    "                model = \"gpt-3.5-turbo\", messages = messages\n",
    "            )\n",
    "\n",
    "            reply = chat.choices[0].message.content\n",
    "            print(f'\\nChatGPT Generated Response : {reply}')\n",
    "\n",
    "            messages.append({\"role\" : \"assistant\", \"content\" : reply})\n",
    "        "
   ]
  }
 ],
 "metadata": {
  "kernelspec": {
   "display_name": "Python 3 (ipykernel)",
   "language": "python",
   "name": "python3"
  },
  "language_info": {
   "codemirror_mode": {
    "name": "ipython",
    "version": 3
   },
   "file_extension": ".py",
   "mimetype": "text/x-python",
   "name": "python",
   "nbconvert_exporter": "python",
   "pygments_lexer": "ipython3",
   "version": "3.9.13"
  }
 },
 "nbformat": 4,
 "nbformat_minor": 5
}
